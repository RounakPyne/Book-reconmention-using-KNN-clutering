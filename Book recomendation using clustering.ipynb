{
 "cells": [
  {
   "cell_type": "code",
   "execution_count": 3,
   "id": "ea2d98e1",
   "metadata": {},
   "outputs": [],
   "source": [
    "import warnings\n",
    "warnings.filterwarnings(\"ignore\")"
   ]
  },
  {
   "cell_type": "code",
   "execution_count": 6,
   "id": "2d1a5a62",
   "metadata": {
    "scrolled": true
   },
   "outputs": [
    {
     "data": {
      "text/html": [
       "<div>\n",
       "<style scoped>\n",
       "    .dataframe tbody tr th:only-of-type {\n",
       "        vertical-align: middle;\n",
       "    }\n",
       "\n",
       "    .dataframe tbody tr th {\n",
       "        vertical-align: top;\n",
       "    }\n",
       "\n",
       "    .dataframe thead th {\n",
       "        text-align: right;\n",
       "    }\n",
       "</style>\n",
       "<table border=\"1\" class=\"dataframe\">\n",
       "  <thead>\n",
       "    <tr style=\"text-align: right;\">\n",
       "      <th></th>\n",
       "      <th>ISBN</th>\n",
       "      <th>Book-Title</th>\n",
       "      <th>Book-Author</th>\n",
       "      <th>Year-Of-Publication</th>\n",
       "      <th>Publisher</th>\n",
       "      <th>Image-URL-S</th>\n",
       "      <th>Image-URL-M</th>\n",
       "      <th>Image-URL-L</th>\n",
       "    </tr>\n",
       "  </thead>\n",
       "  <tbody>\n",
       "    <tr>\n",
       "      <th>0</th>\n",
       "      <td>0195153448</td>\n",
       "      <td>Classical Mythology</td>\n",
       "      <td>Mark P. O. Morford</td>\n",
       "      <td>2002</td>\n",
       "      <td>Oxford University Press</td>\n",
       "      <td>http://images.amazon.com/images/P/0195153448.0...</td>\n",
       "      <td>http://images.amazon.com/images/P/0195153448.0...</td>\n",
       "      <td>http://images.amazon.com/images/P/0195153448.0...</td>\n",
       "    </tr>\n",
       "    <tr>\n",
       "      <th>1</th>\n",
       "      <td>0002005018</td>\n",
       "      <td>Clara Callan</td>\n",
       "      <td>Richard Bruce Wright</td>\n",
       "      <td>2001</td>\n",
       "      <td>HarperFlamingo Canada</td>\n",
       "      <td>http://images.amazon.com/images/P/0002005018.0...</td>\n",
       "      <td>http://images.amazon.com/images/P/0002005018.0...</td>\n",
       "      <td>http://images.amazon.com/images/P/0002005018.0...</td>\n",
       "    </tr>\n",
       "    <tr>\n",
       "      <th>2</th>\n",
       "      <td>0060973129</td>\n",
       "      <td>Decision in Normandy</td>\n",
       "      <td>Carlo D'Este</td>\n",
       "      <td>1991</td>\n",
       "      <td>HarperPerennial</td>\n",
       "      <td>http://images.amazon.com/images/P/0060973129.0...</td>\n",
       "      <td>http://images.amazon.com/images/P/0060973129.0...</td>\n",
       "      <td>http://images.amazon.com/images/P/0060973129.0...</td>\n",
       "    </tr>\n",
       "    <tr>\n",
       "      <th>3</th>\n",
       "      <td>0374157065</td>\n",
       "      <td>Flu: The Story of the Great Influenza Pandemic...</td>\n",
       "      <td>Gina Bari Kolata</td>\n",
       "      <td>1999</td>\n",
       "      <td>Farrar Straus Giroux</td>\n",
       "      <td>http://images.amazon.com/images/P/0374157065.0...</td>\n",
       "      <td>http://images.amazon.com/images/P/0374157065.0...</td>\n",
       "      <td>http://images.amazon.com/images/P/0374157065.0...</td>\n",
       "    </tr>\n",
       "    <tr>\n",
       "      <th>4</th>\n",
       "      <td>0393045218</td>\n",
       "      <td>The Mummies of Urumchi</td>\n",
       "      <td>E. J. W. Barber</td>\n",
       "      <td>1999</td>\n",
       "      <td>W. W. Norton &amp;amp; Company</td>\n",
       "      <td>http://images.amazon.com/images/P/0393045218.0...</td>\n",
       "      <td>http://images.amazon.com/images/P/0393045218.0...</td>\n",
       "      <td>http://images.amazon.com/images/P/0393045218.0...</td>\n",
       "    </tr>\n",
       "  </tbody>\n",
       "</table>\n",
       "</div>"
      ],
      "text/plain": [
       "         ISBN  ...                                        Image-URL-L\n",
       "0  0195153448  ...  http://images.amazon.com/images/P/0195153448.0...\n",
       "1  0002005018  ...  http://images.amazon.com/images/P/0002005018.0...\n",
       "2  0060973129  ...  http://images.amazon.com/images/P/0060973129.0...\n",
       "3  0374157065  ...  http://images.amazon.com/images/P/0374157065.0...\n",
       "4  0393045218  ...  http://images.amazon.com/images/P/0393045218.0...\n",
       "\n",
       "[5 rows x 8 columns]"
      ]
     },
     "execution_count": 6,
     "metadata": {},
     "output_type": "execute_result"
    }
   ],
   "source": [
    "# Importing Libraries\n",
    "import pandas as pd\n",
    "import numpy as np\n",
    "\n",
    "# Reading the data\n",
    "\n",
    "book = pd.read_csv('Books.csv')\n",
    "\n",
    "Book_backup = book\n",
    "\n",
    "book.head()"
   ]
  },
  {
   "cell_type": "code",
   "execution_count": 9,
   "id": "8bdde1ab",
   "metadata": {},
   "outputs": [
    {
     "data": {
      "text/html": [
       "<div>\n",
       "<style scoped>\n",
       "    .dataframe tbody tr th:only-of-type {\n",
       "        vertical-align: middle;\n",
       "    }\n",
       "\n",
       "    .dataframe tbody tr th {\n",
       "        vertical-align: top;\n",
       "    }\n",
       "\n",
       "    .dataframe thead th {\n",
       "        text-align: right;\n",
       "    }\n",
       "</style>\n",
       "<table border=\"1\" class=\"dataframe\">\n",
       "  <thead>\n",
       "    <tr style=\"text-align: right;\">\n",
       "      <th></th>\n",
       "      <th>ISBN</th>\n",
       "      <th>Book-Title</th>\n",
       "      <th>Book-Author</th>\n",
       "      <th>Year-Of-Publication</th>\n",
       "      <th>Publisher</th>\n",
       "    </tr>\n",
       "  </thead>\n",
       "  <tbody>\n",
       "    <tr>\n",
       "      <th>93493</th>\n",
       "      <td>0415106001</td>\n",
       "      <td>Reading Images: The Grammar of Visual Design</td>\n",
       "      <td>Gunther R. Kress</td>\n",
       "      <td>1995</td>\n",
       "      <td>Routledge</td>\n",
       "    </tr>\n",
       "    <tr>\n",
       "      <th>166942</th>\n",
       "      <td>0060226382</td>\n",
       "      <td>The iron giant: A story in five nights</td>\n",
       "      <td>Ted Hughes</td>\n",
       "      <td>1988</td>\n",
       "      <td>Harper &amp;amp; Row</td>\n",
       "    </tr>\n",
       "    <tr>\n",
       "      <th>162485</th>\n",
       "      <td>9041403213</td>\n",
       "      <td>De blindganger: Roman</td>\n",
       "      <td>Peter Drehmanns</td>\n",
       "      <td>1999</td>\n",
       "      <td>Anthos</td>\n",
       "    </tr>\n",
       "    <tr>\n",
       "      <th>191577</th>\n",
       "      <td>0192141163</td>\n",
       "      <td>The Oxford Book of Short Stories</td>\n",
       "      <td>V.S. Pritchett</td>\n",
       "      <td>1981</td>\n",
       "      <td>Oxford University Press</td>\n",
       "    </tr>\n",
       "    <tr>\n",
       "      <th>75421</th>\n",
       "      <td>0684870789</td>\n",
       "      <td>Win The Weight Game : Successful Strategies Fo...</td>\n",
       "      <td>Sarah Ferguson</td>\n",
       "      <td>2001</td>\n",
       "      <td>Fireside</td>\n",
       "    </tr>\n",
       "    <tr>\n",
       "      <th>33395</th>\n",
       "      <td>0704338238</td>\n",
       "      <td>Love and Friendship: And Other Early Works</td>\n",
       "      <td>Jane Austen</td>\n",
       "      <td>1997</td>\n",
       "      <td>Trafalgar Square</td>\n",
       "    </tr>\n",
       "  </tbody>\n",
       "</table>\n",
       "</div>"
      ],
      "text/plain": [
       "              ISBN                                         Book-Title  ... Year-Of-Publication                Publisher\n",
       "93493   0415106001       Reading Images: The Grammar of Visual Design  ...                1995                Routledge\n",
       "166942  0060226382             The iron giant: A story in five nights  ...                1988         Harper &amp; Row\n",
       "162485  9041403213                              De blindganger: Roman  ...                1999                   Anthos\n",
       "191577  0192141163                   The Oxford Book of Short Stories  ...                1981  Oxford University Press\n",
       "75421   0684870789  Win The Weight Game : Successful Strategies Fo...  ...                2001                 Fireside\n",
       "33395   0704338238         Love and Friendship: And Other Early Works  ...                1997         Trafalgar Square\n",
       "\n",
       "[6 rows x 5 columns]"
      ]
     },
     "execution_count": 9,
     "metadata": {},
     "output_type": "execute_result"
    }
   ],
   "source": [
    "# Removing the usless columns\n",
    "\n",
    "book = book[['ISBN','Book-Title','Book-Author','Year-Of-Publication','Publisher']]\n",
    "\n",
    "book.sample(6)"
   ]
  },
  {
   "cell_type": "code",
   "execution_count": 13,
   "id": "db0a5a35",
   "metadata": {},
   "outputs": [],
   "source": [
    "# Renaming the columns as per need\n",
    "\n",
    "book.rename(columns={'Book-Title' : 'Title', 'Book-Author' : 'Author', 'Year-Of-Publication' : 'Year', 'Publisher' : 'Publisher'}, inplace = True)"
   ]
  },
  {
   "cell_type": "code",
   "execution_count": 15,
   "id": "fcad3bad",
   "metadata": {},
   "outputs": [
    {
     "data": {
      "text/html": [
       "<div>\n",
       "<style scoped>\n",
       "    .dataframe tbody tr th:only-of-type {\n",
       "        vertical-align: middle;\n",
       "    }\n",
       "\n",
       "    .dataframe tbody tr th {\n",
       "        vertical-align: top;\n",
       "    }\n",
       "\n",
       "    .dataframe thead th {\n",
       "        text-align: right;\n",
       "    }\n",
       "</style>\n",
       "<table border=\"1\" class=\"dataframe\">\n",
       "  <thead>\n",
       "    <tr style=\"text-align: right;\">\n",
       "      <th></th>\n",
       "      <th>ISBN</th>\n",
       "      <th>Title</th>\n",
       "      <th>Author</th>\n",
       "      <th>Year</th>\n",
       "      <th>Publisher</th>\n",
       "    </tr>\n",
       "  </thead>\n",
       "  <tbody>\n",
       "    <tr>\n",
       "      <th>154649</th>\n",
       "      <td>0823032906</td>\n",
       "      <td>Oil Painting Step by Step</td>\n",
       "      <td>Arthur L. Guptill</td>\n",
       "      <td>1965</td>\n",
       "      <td>Watson-Guptill Pubns</td>\n",
       "    </tr>\n",
       "    <tr>\n",
       "      <th>116910</th>\n",
       "      <td>0452281121</td>\n",
       "      <td>Wrong: The Biggest Missteps and Miscalculation...</td>\n",
       "      <td>Jane O'Boyle</td>\n",
       "      <td>1999</td>\n",
       "      <td>Plume Books</td>\n",
       "    </tr>\n",
       "  </tbody>\n",
       "</table>\n",
       "</div>"
      ],
      "text/plain": [
       "              ISBN                                              Title             Author  Year             Publisher\n",
       "154649  0823032906                          Oil Painting Step by Step  Arthur L. Guptill  1965  Watson-Guptill Pubns\n",
       "116910  0452281121  Wrong: The Biggest Missteps and Miscalculation...       Jane O'Boyle  1999           Plume Books"
      ]
     },
     "execution_count": 15,
     "metadata": {},
     "output_type": "execute_result"
    }
   ],
   "source": [
    "book.sample(2)"
   ]
  },
  {
   "cell_type": "code",
   "execution_count": 18,
   "id": "20ecfdc8",
   "metadata": {},
   "outputs": [],
   "source": [
    "# Importing user file \n",
    "\n",
    "user = pd.read_csv('Users.csv')"
   ]
  },
  {
   "cell_type": "code",
   "execution_count": 19,
   "id": "4cc773c4",
   "metadata": {},
   "outputs": [
    {
     "data": {
      "text/html": [
       "<div>\n",
       "<style scoped>\n",
       "    .dataframe tbody tr th:only-of-type {\n",
       "        vertical-align: middle;\n",
       "    }\n",
       "\n",
       "    .dataframe tbody tr th {\n",
       "        vertical-align: top;\n",
       "    }\n",
       "\n",
       "    .dataframe thead th {\n",
       "        text-align: right;\n",
       "    }\n",
       "</style>\n",
       "<table border=\"1\" class=\"dataframe\">\n",
       "  <thead>\n",
       "    <tr style=\"text-align: right;\">\n",
       "      <th></th>\n",
       "      <th>User-ID</th>\n",
       "      <th>Location</th>\n",
       "      <th>Age</th>\n",
       "    </tr>\n",
       "  </thead>\n",
       "  <tbody>\n",
       "    <tr>\n",
       "      <th>130484</th>\n",
       "      <td>130485</td>\n",
       "      <td>minneapolis, minnesota, usa</td>\n",
       "      <td>NaN</td>\n",
       "    </tr>\n",
       "    <tr>\n",
       "      <th>110042</th>\n",
       "      <td>110043</td>\n",
       "      <td>norderstedt, schleswig-holstein, germany</td>\n",
       "      <td>43.0</td>\n",
       "    </tr>\n",
       "    <tr>\n",
       "      <th>117077</th>\n",
       "      <td>117078</td>\n",
       "      <td>westford, massachusetts, usa</td>\n",
       "      <td>33.0</td>\n",
       "    </tr>\n",
       "    <tr>\n",
       "      <th>273364</th>\n",
       "      <td>273365</td>\n",
       "      <td>prince george, british columbia, canada</td>\n",
       "      <td>22.0</td>\n",
       "    </tr>\n",
       "    <tr>\n",
       "      <th>223847</th>\n",
       "      <td>223848</td>\n",
       "      <td>winter park, florida, usa</td>\n",
       "      <td>NaN</td>\n",
       "    </tr>\n",
       "    <tr>\n",
       "      <th>132866</th>\n",
       "      <td>132867</td>\n",
       "      <td>mulhouse, alsace, france</td>\n",
       "      <td>26.0</td>\n",
       "    </tr>\n",
       "  </tbody>\n",
       "</table>\n",
       "</div>"
      ],
      "text/plain": [
       "        User-ID                                  Location   Age\n",
       "130484   130485               minneapolis, minnesota, usa   NaN\n",
       "110042   110043  norderstedt, schleswig-holstein, germany  43.0\n",
       "117077   117078              westford, massachusetts, usa  33.0\n",
       "273364   273365   prince george, british columbia, canada  22.0\n",
       "223847   223848                 winter park, florida, usa   NaN\n",
       "132866   132867                  mulhouse, alsace, france  26.0"
      ]
     },
     "execution_count": 19,
     "metadata": {},
     "output_type": "execute_result"
    }
   ],
   "source": [
    "user.sample(6)"
   ]
  },
  {
   "cell_type": "code",
   "execution_count": 20,
   "id": "b392585d",
   "metadata": {},
   "outputs": [
    {
     "data": {
      "text/html": [
       "<div>\n",
       "<style scoped>\n",
       "    .dataframe tbody tr th:only-of-type {\n",
       "        vertical-align: middle;\n",
       "    }\n",
       "\n",
       "    .dataframe tbody tr th {\n",
       "        vertical-align: top;\n",
       "    }\n",
       "\n",
       "    .dataframe thead th {\n",
       "        text-align: right;\n",
       "    }\n",
       "</style>\n",
       "<table border=\"1\" class=\"dataframe\">\n",
       "  <thead>\n",
       "    <tr style=\"text-align: right;\">\n",
       "      <th></th>\n",
       "      <th>User-ID</th>\n",
       "      <th>ISBN</th>\n",
       "      <th>Book-Rating</th>\n",
       "    </tr>\n",
       "  </thead>\n",
       "  <tbody>\n",
       "    <tr>\n",
       "      <th>152410</th>\n",
       "      <td>34864</td>\n",
       "      <td>0394223802</td>\n",
       "      <td>0</td>\n",
       "    </tr>\n",
       "    <tr>\n",
       "      <th>649552</th>\n",
       "      <td>157208</td>\n",
       "      <td>0595210473</td>\n",
       "      <td>0</td>\n",
       "    </tr>\n",
       "    <tr>\n",
       "      <th>174691</th>\n",
       "      <td>37950</td>\n",
       "      <td>0425147746</td>\n",
       "      <td>9</td>\n",
       "    </tr>\n",
       "    <tr>\n",
       "      <th>1005522</th>\n",
       "      <td>241537</td>\n",
       "      <td>0812575237</td>\n",
       "      <td>9</td>\n",
       "    </tr>\n",
       "    <tr>\n",
       "      <th>741704</th>\n",
       "      <td>179624</td>\n",
       "      <td>8431546557</td>\n",
       "      <td>0</td>\n",
       "    </tr>\n",
       "    <tr>\n",
       "      <th>439428</th>\n",
       "      <td>105168</td>\n",
       "      <td>0439136350</td>\n",
       "      <td>8</td>\n",
       "    </tr>\n",
       "  </tbody>\n",
       "</table>\n",
       "</div>"
      ],
      "text/plain": [
       "         User-ID        ISBN  Book-Rating\n",
       "152410     34864  0394223802            0\n",
       "649552    157208  0595210473            0\n",
       "174691     37950  0425147746            9\n",
       "1005522   241537  0812575237            9\n",
       "741704    179624  8431546557            0\n",
       "439428    105168  0439136350            8"
      ]
     },
     "execution_count": 20,
     "metadata": {},
     "output_type": "execute_result"
    }
   ],
   "source": [
    "# Importing ratings file \n",
    "\n",
    "rating = pd.read_csv('Ratings.csv')\n",
    "\n",
    "rating.sample(6)"
   ]
  },
  {
   "cell_type": "code",
   "execution_count": 25,
   "id": "fe98f0c3",
   "metadata": {},
   "outputs": [
    {
     "name": "stdout",
     "output_type": "stream",
     "text": [
      "The shape of books is : (271360, 5)\n",
      "The shape of user is : (278858, 3)\n",
      "The shape of rating is : (1149780, 3)\n"
     ]
    }
   ],
   "source": [
    "# Getting the shape\n",
    "\n",
    "print('The shape of books is :',book.shape)\n",
    "print('The shape of user is :',user.shape)\n",
    "print('The shape of rating is :',rating.shape)"
   ]
  },
  {
   "cell_type": "code",
   "execution_count": 29,
   "id": "c5f3f8fb",
   "metadata": {},
   "outputs": [
    {
     "data": {
      "text/html": [
       "<div>\n",
       "<style scoped>\n",
       "    .dataframe tbody tr th:only-of-type {\n",
       "        vertical-align: middle;\n",
       "    }\n",
       "\n",
       "    .dataframe tbody tr th {\n",
       "        vertical-align: top;\n",
       "    }\n",
       "\n",
       "    .dataframe thead th {\n",
       "        text-align: right;\n",
       "    }\n",
       "</style>\n",
       "<table border=\"1\" class=\"dataframe\">\n",
       "  <thead>\n",
       "    <tr style=\"text-align: right;\">\n",
       "      <th></th>\n",
       "      <th>User-ID</th>\n",
       "      <th>ISBN</th>\n",
       "      <th>Book-Rating</th>\n",
       "      <th>Title</th>\n",
       "      <th>Author</th>\n",
       "      <th>Year</th>\n",
       "      <th>Publisher</th>\n",
       "    </tr>\n",
       "  </thead>\n",
       "  <tbody>\n",
       "    <tr>\n",
       "      <th>359020</th>\n",
       "      <td>266283</td>\n",
       "      <td>0345298349</td>\n",
       "      <td>0</td>\n",
       "      <td>Gorky Park</td>\n",
       "      <td>Martin Cruz Smith</td>\n",
       "      <td>1993</td>\n",
       "      <td>Ballantine Books</td>\n",
       "    </tr>\n",
       "    <tr>\n",
       "      <th>418346</th>\n",
       "      <td>28523</td>\n",
       "      <td>0671722905</td>\n",
       "      <td>0</td>\n",
       "      <td>The TEMPEST</td>\n",
       "      <td>William Shakespeare</td>\n",
       "      <td>1994</td>\n",
       "      <td>Washington Square Press</td>\n",
       "    </tr>\n",
       "    <tr>\n",
       "      <th>135105</th>\n",
       "      <td>116599</td>\n",
       "      <td>0307101762</td>\n",
       "      <td>0</td>\n",
       "      <td>Baby Animals on the Farm (First Little Golden ...</td>\n",
       "      <td>Golden Books Staff</td>\n",
       "      <td>1995</td>\n",
       "      <td>Golden Books</td>\n",
       "    </tr>\n",
       "    <tr>\n",
       "      <th>551900</th>\n",
       "      <td>144241</td>\n",
       "      <td>0671791974</td>\n",
       "      <td>0</td>\n",
       "      <td>IMZADI: STAR TREK, NEXT GENERATION (Star Trek ...</td>\n",
       "      <td>Peter David</td>\n",
       "      <td>1992</td>\n",
       "      <td>Star Trek</td>\n",
       "    </tr>\n",
       "    <tr>\n",
       "      <th>400984</th>\n",
       "      <td>44290</td>\n",
       "      <td>0316789976</td>\n",
       "      <td>5</td>\n",
       "      <td>The Weight of Water : A Novel Tag - Author of ...</td>\n",
       "      <td>Anita Shreve</td>\n",
       "      <td>1997</td>\n",
       "      <td>Little, Brown</td>\n",
       "    </tr>\n",
       "    <tr>\n",
       "      <th>317082</th>\n",
       "      <td>225199</td>\n",
       "      <td>0140444572</td>\n",
       "      <td>10</td>\n",
       "      <td>The Aeneid (Penguin Classics)</td>\n",
       "      <td>Virgil</td>\n",
       "      <td>1991</td>\n",
       "      <td>Penguin Books</td>\n",
       "    </tr>\n",
       "  </tbody>\n",
       "</table>\n",
       "</div>"
      ],
      "text/plain": [
       "        User-ID        ISBN  Book-Rating  ...               Author  Year                Publisher\n",
       "359020   266283  0345298349            0  ...    Martin Cruz Smith  1993         Ballantine Books\n",
       "418346    28523  0671722905            0  ...  William Shakespeare  1994  Washington Square Press\n",
       "135105   116599  0307101762            0  ...   Golden Books Staff  1995             Golden Books\n",
       "551900   144241  0671791974            0  ...          Peter David  1992                Star Trek\n",
       "400984    44290  0316789976            5  ...         Anita Shreve  1997            Little, Brown\n",
       "317082   225199  0140444572           10  ...               Virgil  1991            Penguin Books\n",
       "\n",
       "[6 rows x 7 columns]"
      ]
     },
     "execution_count": 29,
     "metadata": {},
     "output_type": "execute_result"
    }
   ],
   "source": [
    "# Merging ratings with books to removing rating for which we don't have books\n",
    "\n",
    "ratings_with_books =rating.merge(book,on='ISBN')\n",
    "ratings_with_books.sample(6)"
   ]
  },
  {
   "cell_type": "code",
   "execution_count": 30,
   "id": "dddd270d",
   "metadata": {},
   "outputs": [
    {
     "data": {
      "text/plain": [
       "(1031136, 7)"
      ]
     },
     "execution_count": 30,
     "metadata": {},
     "output_type": "execute_result"
    }
   ],
   "source": [
    "ratings_with_books.shape"
   ]
  },
  {
   "cell_type": "code",
   "execution_count": 41,
   "id": "a11a67a6",
   "metadata": {},
   "outputs": [],
   "source": [
    "# Grouping the data to see the number of ratings\n",
    "\n",
    "Number_Rating=ratings_with_books.groupby(\"Title\")['Book-Rating'].count().reset_index()"
   ]
  },
  {
   "cell_type": "code",
   "execution_count": 42,
   "id": "eb3d75e9",
   "metadata": {},
   "outputs": [],
   "source": [
    "# renaming the column 'Book-Rating'\n",
    "\n",
    "Number_Rating.rename(columns={'Book-Rating' : 'number of ratings'}, inplace = True)"
   ]
  },
  {
   "cell_type": "code",
   "execution_count": 40,
   "id": "df3bbe5f",
   "metadata": {},
   "outputs": [
    {
     "data": {
      "text/html": [
       "<div>\n",
       "<style scoped>\n",
       "    .dataframe tbody tr th:only-of-type {\n",
       "        vertical-align: middle;\n",
       "    }\n",
       "\n",
       "    .dataframe tbody tr th {\n",
       "        vertical-align: top;\n",
       "    }\n",
       "\n",
       "    .dataframe thead th {\n",
       "        text-align: right;\n",
       "    }\n",
       "</style>\n",
       "<table border=\"1\" class=\"dataframe\">\n",
       "  <thead>\n",
       "    <tr style=\"text-align: right;\">\n",
       "      <th></th>\n",
       "      <th>Title</th>\n",
       "      <th>number of ratings</th>\n",
       "    </tr>\n",
       "  </thead>\n",
       "  <tbody>\n",
       "    <tr>\n",
       "      <th>0</th>\n",
       "      <td>A Light in the Storm: The Civil War Diary of ...</td>\n",
       "      <td>4</td>\n",
       "    </tr>\n",
       "    <tr>\n",
       "      <th>1</th>\n",
       "      <td>Always Have Popsicles</td>\n",
       "      <td>1</td>\n",
       "    </tr>\n",
       "    <tr>\n",
       "      <th>2</th>\n",
       "      <td>Apple Magic (The Collector's series)</td>\n",
       "      <td>1</td>\n",
       "    </tr>\n",
       "    <tr>\n",
       "      <th>3</th>\n",
       "      <td>Ask Lily (Young Women of Faith: Lily Series, ...</td>\n",
       "      <td>1</td>\n",
       "    </tr>\n",
       "    <tr>\n",
       "      <th>4</th>\n",
       "      <td>Beyond IBM: Leadership Marketing and Finance ...</td>\n",
       "      <td>1</td>\n",
       "    </tr>\n",
       "  </tbody>\n",
       "</table>\n",
       "</div>"
      ],
      "text/plain": [
       "                                               Title  number of ratings\n",
       "0   A Light in the Storm: The Civil War Diary of ...                  4\n",
       "1                              Always Have Popsicles                  1\n",
       "2               Apple Magic (The Collector's series)                  1\n",
       "3   Ask Lily (Young Women of Faith: Lily Series, ...                  1\n",
       "4   Beyond IBM: Leadership Marketing and Finance ...                  1"
      ]
     },
     "execution_count": 40,
     "metadata": {},
     "output_type": "execute_result"
    }
   ],
   "source": [
    "Number_Rating.head()"
   ]
  },
  {
   "cell_type": "code",
   "execution_count": 45,
   "id": "31fa9af2",
   "metadata": {},
   "outputs": [
    {
     "data": {
      "text/html": [
       "<div>\n",
       "<style scoped>\n",
       "    .dataframe tbody tr th:only-of-type {\n",
       "        vertical-align: middle;\n",
       "    }\n",
       "\n",
       "    .dataframe tbody tr th {\n",
       "        vertical-align: top;\n",
       "    }\n",
       "\n",
       "    .dataframe thead th {\n",
       "        text-align: right;\n",
       "    }\n",
       "</style>\n",
       "<table border=\"1\" class=\"dataframe\">\n",
       "  <thead>\n",
       "    <tr style=\"text-align: right;\">\n",
       "      <th></th>\n",
       "      <th>User-ID</th>\n",
       "      <th>ISBN</th>\n",
       "      <th>Book-Rating</th>\n",
       "      <th>Title</th>\n",
       "      <th>Author</th>\n",
       "      <th>Year</th>\n",
       "      <th>Publisher</th>\n",
       "      <th>number of ratings</th>\n",
       "    </tr>\n",
       "  </thead>\n",
       "  <tbody>\n",
       "    <tr>\n",
       "      <th>6817</th>\n",
       "      <td>236283</td>\n",
       "      <td>0316781142</td>\n",
       "      <td>0</td>\n",
       "      <td>The Last Time They Met : A Novel</td>\n",
       "      <td>Anita Shreve</td>\n",
       "      <td>2001</td>\n",
       "      <td>Little, Brown</td>\n",
       "      <td>312</td>\n",
       "    </tr>\n",
       "    <tr>\n",
       "      <th>280115</th>\n",
       "      <td>127359</td>\n",
       "      <td>0446604658</td>\n",
       "      <td>7</td>\n",
       "      <td>Lucky You</td>\n",
       "      <td>Carl Hiaasen</td>\n",
       "      <td>1998</td>\n",
       "      <td>Warner Vision</td>\n",
       "      <td>129</td>\n",
       "    </tr>\n",
       "    <tr>\n",
       "      <th>554746</th>\n",
       "      <td>215304</td>\n",
       "      <td>0380812010</td>\n",
       "      <td>0</td>\n",
       "      <td>All About Love (Cynster Novels)</td>\n",
       "      <td>Stephanie Laurens</td>\n",
       "      <td>2001</td>\n",
       "      <td>Avon</td>\n",
       "      <td>26</td>\n",
       "    </tr>\n",
       "    <tr>\n",
       "      <th>155929</th>\n",
       "      <td>139031</td>\n",
       "      <td>0385334710</td>\n",
       "      <td>6</td>\n",
       "      <td>Looking Back</td>\n",
       "      <td>Belva Plain</td>\n",
       "      <td>2001</td>\n",
       "      <td>Delacorte Press</td>\n",
       "      <td>95</td>\n",
       "    </tr>\n",
       "    <tr>\n",
       "      <th>1030933</th>\n",
       "      <td>276018</td>\n",
       "      <td>3498005731</td>\n",
       "      <td>0</td>\n",
       "      <td>Wie man Kunden begeistert. Der Dienst am Kunde...</td>\n",
       "      <td>Kenneth Blanchard</td>\n",
       "      <td>1994</td>\n",
       "      <td>Rowohlt, Reinbek</td>\n",
       "      <td>1</td>\n",
       "    </tr>\n",
       "    <tr>\n",
       "      <th>278342</th>\n",
       "      <td>165345</td>\n",
       "      <td>1893910245</td>\n",
       "      <td>4</td>\n",
       "      <td>Patient Heal Thyself: A Remarkable Health Prog...</td>\n",
       "      <td>Jordan S. Rubin</td>\n",
       "      <td>2002</td>\n",
       "      <td>Freedom Press</td>\n",
       "      <td>10</td>\n",
       "    </tr>\n",
       "  </tbody>\n",
       "</table>\n",
       "</div>"
      ],
      "text/plain": [
       "         User-ID        ISBN  Book-Rating  ...  Year         Publisher number of ratings\n",
       "6817      236283  0316781142            0  ...  2001     Little, Brown               312\n",
       "280115    127359  0446604658            7  ...  1998     Warner Vision               129\n",
       "554746    215304  0380812010            0  ...  2001              Avon                26\n",
       "155929    139031  0385334710            6  ...  2001   Delacorte Press                95\n",
       "1030933   276018  3498005731            0  ...  1994  Rowohlt, Reinbek                 1\n",
       "278342    165345  1893910245            4  ...  2002     Freedom Press                10\n",
       "\n",
       "[6 rows x 8 columns]"
      ]
     },
     "execution_count": 45,
     "metadata": {},
     "output_type": "execute_result"
    }
   ],
   "source": [
    "# Final merging for clustering\n",
    "\n",
    "Final_rating =ratings_with_books.merge(Number_Rating,on='Title')\n",
    "Final_rating.sample(6)"
   ]
  },
  {
   "cell_type": "code",
   "execution_count": 55,
   "id": "d15a3cdf",
   "metadata": {},
   "outputs": [
    {
     "data": {
      "text/plain": [
       "(282389, 8)"
      ]
     },
     "execution_count": 55,
     "metadata": {},
     "output_type": "execute_result"
    }
   ],
   "source": [
    "# Final rating > 50\n",
    "\n",
    "Final_rating = Final_rating[Final_rating['number of ratings']>50]\n",
    "\n",
    "Final_rating.shape"
   ]
  },
  {
   "cell_type": "code",
   "execution_count": 56,
   "id": "dacba12c",
   "metadata": {},
   "outputs": [
    {
     "data": {
      "text/plain": [
       "(282389, 8)"
      ]
     },
     "execution_count": 56,
     "metadata": {},
     "output_type": "execute_result"
    }
   ],
   "source": [
    "# Removing duplicates\n",
    "\n",
    "Final_rating.drop_duplicates(['User-ID','Title'],inplace=True)\n",
    "\n",
    "# Chechking the shape\n",
    "\n",
    "Final_rating.shape"
   ]
  },
  {
   "cell_type": "code",
   "execution_count": 57,
   "id": "ad28046e",
   "metadata": {},
   "outputs": [
    {
     "data": {
      "text/html": [
       "<div>\n",
       "<style scoped>\n",
       "    .dataframe tbody tr th:only-of-type {\n",
       "        vertical-align: middle;\n",
       "    }\n",
       "\n",
       "    .dataframe tbody tr th {\n",
       "        vertical-align: top;\n",
       "    }\n",
       "\n",
       "    .dataframe thead th {\n",
       "        text-align: right;\n",
       "    }\n",
       "</style>\n",
       "<table border=\"1\" class=\"dataframe\">\n",
       "  <thead>\n",
       "    <tr style=\"text-align: right;\">\n",
       "      <th></th>\n",
       "      <th>User-ID</th>\n",
       "      <th>ISBN</th>\n",
       "      <th>Book-Rating</th>\n",
       "      <th>Title</th>\n",
       "      <th>Author</th>\n",
       "      <th>Year</th>\n",
       "      <th>Publisher</th>\n",
       "      <th>number of ratings</th>\n",
       "    </tr>\n",
       "  </thead>\n",
       "  <tbody>\n",
       "    <tr>\n",
       "      <th>0</th>\n",
       "      <td>276725</td>\n",
       "      <td>034545104X</td>\n",
       "      <td>0</td>\n",
       "      <td>Flesh Tones: A Novel</td>\n",
       "      <td>M. J. Rose</td>\n",
       "      <td>2002</td>\n",
       "      <td>Ballantine Books</td>\n",
       "      <td>60</td>\n",
       "    </tr>\n",
       "    <tr>\n",
       "      <th>1</th>\n",
       "      <td>2313</td>\n",
       "      <td>034545104X</td>\n",
       "      <td>5</td>\n",
       "      <td>Flesh Tones: A Novel</td>\n",
       "      <td>M. J. Rose</td>\n",
       "      <td>2002</td>\n",
       "      <td>Ballantine Books</td>\n",
       "      <td>60</td>\n",
       "    </tr>\n",
       "    <tr>\n",
       "      <th>2</th>\n",
       "      <td>6543</td>\n",
       "      <td>034545104X</td>\n",
       "      <td>0</td>\n",
       "      <td>Flesh Tones: A Novel</td>\n",
       "      <td>M. J. Rose</td>\n",
       "      <td>2002</td>\n",
       "      <td>Ballantine Books</td>\n",
       "      <td>60</td>\n",
       "    </tr>\n",
       "    <tr>\n",
       "      <th>3</th>\n",
       "      <td>8680</td>\n",
       "      <td>034545104X</td>\n",
       "      <td>5</td>\n",
       "      <td>Flesh Tones: A Novel</td>\n",
       "      <td>M. J. Rose</td>\n",
       "      <td>2002</td>\n",
       "      <td>Ballantine Books</td>\n",
       "      <td>60</td>\n",
       "    </tr>\n",
       "    <tr>\n",
       "      <th>4</th>\n",
       "      <td>10314</td>\n",
       "      <td>034545104X</td>\n",
       "      <td>9</td>\n",
       "      <td>Flesh Tones: A Novel</td>\n",
       "      <td>M. J. Rose</td>\n",
       "      <td>2002</td>\n",
       "      <td>Ballantine Books</td>\n",
       "      <td>60</td>\n",
       "    </tr>\n",
       "  </tbody>\n",
       "</table>\n",
       "</div>"
      ],
      "text/plain": [
       "   User-ID        ISBN  Book-Rating                 Title      Author  Year         Publisher  number of ratings\n",
       "0   276725  034545104X            0  Flesh Tones: A Novel  M. J. Rose  2002  Ballantine Books                 60\n",
       "1     2313  034545104X            5  Flesh Tones: A Novel  M. J. Rose  2002  Ballantine Books                 60\n",
       "2     6543  034545104X            0  Flesh Tones: A Novel  M. J. Rose  2002  Ballantine Books                 60\n",
       "3     8680  034545104X            5  Flesh Tones: A Novel  M. J. Rose  2002  Ballantine Books                 60\n",
       "4    10314  034545104X            9  Flesh Tones: A Novel  M. J. Rose  2002  Ballantine Books                 60"
      ]
     },
     "execution_count": 57,
     "metadata": {},
     "output_type": "execute_result"
    }
   ],
   "source": [
    "Final_rating.head()"
   ]
  },
  {
   "cell_type": "code",
   "execution_count": 58,
   "id": "8d8f6d7b",
   "metadata": {},
   "outputs": [],
   "source": [
    "# Checking the book pivot\n",
    "\n",
    "book_pivot = Final_rating.pivot_table(columns='User-ID', index='Title', values = 'Book-Rating')"
   ]
  },
  {
   "cell_type": "code",
   "execution_count": 62,
   "id": "138897f5",
   "metadata": {},
   "outputs": [],
   "source": [
    "# Dealing with Nan Values\n",
    "\n",
    "book_pivot.fillna(0, inplace=True)"
   ]
  },
  {
   "cell_type": "code",
   "execution_count": 65,
   "id": "19c0f961",
   "metadata": {},
   "outputs": [
    {
     "data": {
      "text/plain": [
       "(2381, 47740)"
      ]
     },
     "execution_count": 65,
     "metadata": {},
     "output_type": "execute_result"
    }
   ],
   "source": [
    "# Check Shape\n",
    "\n",
    "book_pivot.shape"
   ]
  },
  {
   "cell_type": "code",
   "execution_count": 66,
   "id": "f57c3e0a",
   "metadata": {},
   "outputs": [],
   "source": [
    "# Remove 0 values\n",
    "\n",
    "from scipy.sparse import csr_matrix\n",
    "\n",
    "book_sparse = csr_matrix(book_pivot)"
   ]
  },
  {
   "cell_type": "code",
   "execution_count": 67,
   "id": "fbf4a293",
   "metadata": {},
   "outputs": [
    {
     "data": {
      "text/plain": [
       "scipy.sparse._csr.csr_matrix"
      ]
     },
     "execution_count": 67,
     "metadata": {},
     "output_type": "execute_result"
    }
   ],
   "source": [
    "# Checking book saprse data type\n",
    "\n",
    "type(book_sparse)"
   ]
  },
  {
   "cell_type": "code",
   "execution_count": 68,
   "id": "2971c9ee",
   "metadata": {},
   "outputs": [
    {
     "data": {
      "text/html": [
       "<style>#sk-container-id-1 {color: black;}#sk-container-id-1 pre{padding: 0;}#sk-container-id-1 div.sk-toggleable {background-color: white;}#sk-container-id-1 label.sk-toggleable__label {cursor: pointer;display: block;width: 100%;margin-bottom: 0;padding: 0.3em;box-sizing: border-box;text-align: center;}#sk-container-id-1 label.sk-toggleable__label-arrow:before {content: \"▸\";float: left;margin-right: 0.25em;color: #696969;}#sk-container-id-1 label.sk-toggleable__label-arrow:hover:before {color: black;}#sk-container-id-1 div.sk-estimator:hover label.sk-toggleable__label-arrow:before {color: black;}#sk-container-id-1 div.sk-toggleable__content {max-height: 0;max-width: 0;overflow: hidden;text-align: left;background-color: #f0f8ff;}#sk-container-id-1 div.sk-toggleable__content pre {margin: 0.2em;color: black;border-radius: 0.25em;background-color: #f0f8ff;}#sk-container-id-1 input.sk-toggleable__control:checked~div.sk-toggleable__content {max-height: 200px;max-width: 100%;overflow: auto;}#sk-container-id-1 input.sk-toggleable__control:checked~label.sk-toggleable__label-arrow:before {content: \"▾\";}#sk-container-id-1 div.sk-estimator input.sk-toggleable__control:checked~label.sk-toggleable__label {background-color: #d4ebff;}#sk-container-id-1 div.sk-label input.sk-toggleable__control:checked~label.sk-toggleable__label {background-color: #d4ebff;}#sk-container-id-1 input.sk-hidden--visually {border: 0;clip: rect(1px 1px 1px 1px);clip: rect(1px, 1px, 1px, 1px);height: 1px;margin: -1px;overflow: hidden;padding: 0;position: absolute;width: 1px;}#sk-container-id-1 div.sk-estimator {font-family: monospace;background-color: #f0f8ff;border: 1px dotted black;border-radius: 0.25em;box-sizing: border-box;margin-bottom: 0.5em;}#sk-container-id-1 div.sk-estimator:hover {background-color: #d4ebff;}#sk-container-id-1 div.sk-parallel-item::after {content: \"\";width: 100%;border-bottom: 1px solid gray;flex-grow: 1;}#sk-container-id-1 div.sk-label:hover label.sk-toggleable__label {background-color: #d4ebff;}#sk-container-id-1 div.sk-serial::before {content: \"\";position: absolute;border-left: 1px solid gray;box-sizing: border-box;top: 0;bottom: 0;left: 50%;z-index: 0;}#sk-container-id-1 div.sk-serial {display: flex;flex-direction: column;align-items: center;background-color: white;padding-right: 0.2em;padding-left: 0.2em;position: relative;}#sk-container-id-1 div.sk-item {position: relative;z-index: 1;}#sk-container-id-1 div.sk-parallel {display: flex;align-items: stretch;justify-content: center;background-color: white;position: relative;}#sk-container-id-1 div.sk-item::before, #sk-container-id-1 div.sk-parallel-item::before {content: \"\";position: absolute;border-left: 1px solid gray;box-sizing: border-box;top: 0;bottom: 0;left: 50%;z-index: -1;}#sk-container-id-1 div.sk-parallel-item {display: flex;flex-direction: column;z-index: 1;position: relative;background-color: white;}#sk-container-id-1 div.sk-parallel-item:first-child::after {align-self: flex-end;width: 50%;}#sk-container-id-1 div.sk-parallel-item:last-child::after {align-self: flex-start;width: 50%;}#sk-container-id-1 div.sk-parallel-item:only-child::after {width: 0;}#sk-container-id-1 div.sk-dashed-wrapped {border: 1px dashed gray;margin: 0 0.4em 0.5em 0.4em;box-sizing: border-box;padding-bottom: 0.4em;background-color: white;}#sk-container-id-1 div.sk-label label {font-family: monospace;font-weight: bold;display: inline-block;line-height: 1.2em;}#sk-container-id-1 div.sk-label-container {text-align: center;}#sk-container-id-1 div.sk-container {/* jupyter's `normalize.less` sets `[hidden] { display: none; }` but bootstrap.min.css set `[hidden] { display: none !important; }` so we also need the `!important` here to be able to override the default hidden behavior on the sphinx rendered scikit-learn.org. See: https://github.com/scikit-learn/scikit-learn/issues/21755 */display: inline-block !important;position: relative;}#sk-container-id-1 div.sk-text-repr-fallback {display: none;}</style><div id=\"sk-container-id-1\" class=\"sk-top-container\"><div class=\"sk-text-repr-fallback\"><pre>NearestNeighbors(algorithm=&#x27;brute&#x27;)</pre><b>In a Jupyter environment, please rerun this cell to show the HTML representation or trust the notebook. <br />On GitHub, the HTML representation is unable to render, please try loading this page with nbviewer.org.</b></div><div class=\"sk-container\" hidden><div class=\"sk-item\"><div class=\"sk-estimator sk-toggleable\"><input class=\"sk-toggleable__control sk-hidden--visually\" id=\"sk-estimator-id-1\" type=\"checkbox\" checked><label for=\"sk-estimator-id-1\" class=\"sk-toggleable__label sk-toggleable__label-arrow\">NearestNeighbors</label><div class=\"sk-toggleable__content\"><pre>NearestNeighbors(algorithm=&#x27;brute&#x27;)</pre></div></div></div></div></div>"
      ],
      "text/plain": [
       "NearestNeighbors(algorithm='brute')"
      ]
     },
     "execution_count": 68,
     "metadata": {},
     "output_type": "execute_result"
    }
   ],
   "source": [
    "# Using KNN clustering\n",
    "\n",
    "from sklearn.neighbors import NearestNeighbors\n",
    "\n",
    "model = NearestNeighbors(algorithm='brute')\n",
    "\n",
    "# model fit\n",
    "\n",
    "model.fit(book_sparse)"
   ]
  },
  {
   "cell_type": "code",
   "execution_count": 86,
   "id": "d60525ed",
   "metadata": {},
   "outputs": [],
   "source": [
    "distances, suggestions = model.kneighbors(book_pivot.iloc[54, :].values.reshape(1,-1), n_neighbors=6)"
   ]
  },
  {
   "cell_type": "code",
   "execution_count": 87,
   "id": "2c2acb75",
   "metadata": {},
   "outputs": [
    {
     "data": {
      "text/plain": [
       "array([[  54, 1354,  748, 2361,  275, 1198]], dtype=int64)"
      ]
     },
     "execution_count": 87,
     "metadata": {},
     "output_type": "execute_result"
    }
   ],
   "source": [
    "suggestions"
   ]
  },
  {
   "cell_type": "code",
   "execution_count": 88,
   "id": "2372af57",
   "metadata": {},
   "outputs": [
    {
     "name": "stdout",
     "output_type": "stream",
     "text": [
      "Index(['A Pirate Looks at Fifty', 'Reasonable Doubt', 'Ground Zero and Beyond',\n",
      "       'Women in His Life', 'Blood and Gold (Rice, Anne, Vampire Chronicles.)',\n",
      "       'On Wings of Eagles'],\n",
      "      dtype='object', name='Title')\n"
     ]
    }
   ],
   "source": [
    "for i in range(len(suggestions)):\n",
    "    print(book_pivot.index[suggestions[i]])"
   ]
  },
  {
   "cell_type": "code",
   "execution_count": 85,
   "id": "ce8c7551",
   "metadata": {},
   "outputs": [
    {
     "data": {
      "text/plain": [
       "'Big Trouble'"
      ]
     },
     "execution_count": 85,
     "metadata": {},
     "output_type": "execute_result"
    }
   ],
   "source": [
    "book_pivot.index[240]"
   ]
  },
  {
   "cell_type": "code",
   "execution_count": 97,
   "id": "e24bfacf",
   "metadata": {},
   "outputs": [],
   "source": [
    "# book recomendation system\n",
    "\n",
    "def book_reccomend(book_name):\n",
    "    book_id = np.where(book_pivot.index==book_name)[0][0]\n",
    "    distances, suggestions = model.kneighbors(book_pivot.iloc[book_id, :].values.reshape(1,-1), n_neighbors=6)\n",
    "   \n",
    "    for i in range(len(suggestions)):\n",
    "        if i==0: \n",
    "            print('The suggestion for',book_name,'are :',book_pivot.index[suggestions[i]])"
   ]
  },
  {
   "cell_type": "code",
   "execution_count": 98,
   "id": "2bc065fa",
   "metadata": {},
   "outputs": [
    {
     "name": "stdout",
     "output_type": "stream",
     "text": [
      "The suggestion for Big Trouble are : Index(['Big Trouble', 'Ground Zero and Beyond', 'Howards End', 'Whirlwind',\n",
      "       'About Face', 'Ssn'],\n",
      "      dtype='object', name='Title')\n"
     ]
    }
   ],
   "source": [
    "book_reccomend('Big Trouble')"
   ]
  }
 ],
 "metadata": {
  "kernelspec": {
   "display_name": "Python 3 (ipykernel)",
   "language": "python",
   "name": "python3"
  },
  "language_info": {
   "codemirror_mode": {
    "name": "ipython",
    "version": 3
   },
   "file_extension": ".py",
   "mimetype": "text/x-python",
   "name": "python",
   "nbconvert_exporter": "python",
   "pygments_lexer": "ipython3",
   "version": "3.11.4"
  }
 },
 "nbformat": 4,
 "nbformat_minor": 5
}
